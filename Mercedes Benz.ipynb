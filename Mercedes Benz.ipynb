{
 "cells": [
  {
   "cell_type": "code",
   "execution_count": 2,
   "id": "31caec75-e0b3-4fe8-90bb-2ed887e61e58",
   "metadata": {},
   "outputs": [],
   "source": [
    "# Import Libraries\n",
    "import pandas as pd\n",
    "import numpy as np\n",
    "import matplotlib.pyplot as plt\n",
    "import seaborn as sns\n",
    "from sklearn.model_selection import train_test_split\n",
    "from sklearn.metrics import confusion_matrix, ConfusionMatrixDisplay, roc_curve, auc, classification_report"
   ]
  },
  {
   "cell_type": "code",
   "execution_count": 3,
   "id": "bd90de41-2fc1-4ee1-9ef0-dc1893bcd6ca",
   "metadata": {},
   "outputs": [],
   "source": [
    "# Display full legnth of outputs\n",
    "pd.options.display.max_seq_items = 200000 \n",
    "pd.options.display.max_rows = 400000"
   ]
  },
  {
   "cell_type": "code",
   "execution_count": 4,
   "id": "2ef1c8a3-4386-4252-a217-a25f0a55bdac",
   "metadata": {},
   "outputs": [],
   "source": [
    "df_test = pd.read_csv(\"test.csv\")\n",
    "df_train = pd.read_csv(\"train.csv\")"
   ]
  },
  {
   "cell_type": "code",
   "execution_count": 5,
   "id": "c587d555-b994-4d46-a8f4-913f4b44dafd",
   "metadata": {},
   "outputs": [
    {
     "data": {
      "text/html": [
       "<div>\n",
       "<style scoped>\n",
       "    .dataframe tbody tr th:only-of-type {\n",
       "        vertical-align: middle;\n",
       "    }\n",
       "\n",
       "    .dataframe tbody tr th {\n",
       "        vertical-align: top;\n",
       "    }\n",
       "\n",
       "    .dataframe thead th {\n",
       "        text-align: right;\n",
       "    }\n",
       "</style>\n",
       "<table border=\"1\" class=\"dataframe\">\n",
       "  <thead>\n",
       "    <tr style=\"text-align: right;\">\n",
       "      <th></th>\n",
       "      <th>ID</th>\n",
       "      <th>X0</th>\n",
       "      <th>X1</th>\n",
       "      <th>X2</th>\n",
       "      <th>X3</th>\n",
       "      <th>X4</th>\n",
       "      <th>X5</th>\n",
       "      <th>X6</th>\n",
       "      <th>X8</th>\n",
       "      <th>X10</th>\n",
       "      <th>...</th>\n",
       "      <th>X375</th>\n",
       "      <th>X376</th>\n",
       "      <th>X377</th>\n",
       "      <th>X378</th>\n",
       "      <th>X379</th>\n",
       "      <th>X380</th>\n",
       "      <th>X382</th>\n",
       "      <th>X383</th>\n",
       "      <th>X384</th>\n",
       "      <th>X385</th>\n",
       "    </tr>\n",
       "  </thead>\n",
       "  <tbody>\n",
       "    <tr>\n",
       "      <th>0</th>\n",
       "      <td>1</td>\n",
       "      <td>az</td>\n",
       "      <td>v</td>\n",
       "      <td>n</td>\n",
       "      <td>f</td>\n",
       "      <td>d</td>\n",
       "      <td>t</td>\n",
       "      <td>a</td>\n",
       "      <td>w</td>\n",
       "      <td>0</td>\n",
       "      <td>...</td>\n",
       "      <td>0</td>\n",
       "      <td>0</td>\n",
       "      <td>0</td>\n",
       "      <td>1</td>\n",
       "      <td>0</td>\n",
       "      <td>0</td>\n",
       "      <td>0</td>\n",
       "      <td>0</td>\n",
       "      <td>0</td>\n",
       "      <td>0</td>\n",
       "    </tr>\n",
       "    <tr>\n",
       "      <th>1</th>\n",
       "      <td>2</td>\n",
       "      <td>t</td>\n",
       "      <td>b</td>\n",
       "      <td>ai</td>\n",
       "      <td>a</td>\n",
       "      <td>d</td>\n",
       "      <td>b</td>\n",
       "      <td>g</td>\n",
       "      <td>y</td>\n",
       "      <td>0</td>\n",
       "      <td>...</td>\n",
       "      <td>0</td>\n",
       "      <td>0</td>\n",
       "      <td>1</td>\n",
       "      <td>0</td>\n",
       "      <td>0</td>\n",
       "      <td>0</td>\n",
       "      <td>0</td>\n",
       "      <td>0</td>\n",
       "      <td>0</td>\n",
       "      <td>0</td>\n",
       "    </tr>\n",
       "    <tr>\n",
       "      <th>2</th>\n",
       "      <td>3</td>\n",
       "      <td>az</td>\n",
       "      <td>v</td>\n",
       "      <td>as</td>\n",
       "      <td>f</td>\n",
       "      <td>d</td>\n",
       "      <td>a</td>\n",
       "      <td>j</td>\n",
       "      <td>j</td>\n",
       "      <td>0</td>\n",
       "      <td>...</td>\n",
       "      <td>0</td>\n",
       "      <td>0</td>\n",
       "      <td>0</td>\n",
       "      <td>1</td>\n",
       "      <td>0</td>\n",
       "      <td>0</td>\n",
       "      <td>0</td>\n",
       "      <td>0</td>\n",
       "      <td>0</td>\n",
       "      <td>0</td>\n",
       "    </tr>\n",
       "    <tr>\n",
       "      <th>3</th>\n",
       "      <td>4</td>\n",
       "      <td>az</td>\n",
       "      <td>l</td>\n",
       "      <td>n</td>\n",
       "      <td>f</td>\n",
       "      <td>d</td>\n",
       "      <td>z</td>\n",
       "      <td>l</td>\n",
       "      <td>n</td>\n",
       "      <td>0</td>\n",
       "      <td>...</td>\n",
       "      <td>0</td>\n",
       "      <td>0</td>\n",
       "      <td>0</td>\n",
       "      <td>1</td>\n",
       "      <td>0</td>\n",
       "      <td>0</td>\n",
       "      <td>0</td>\n",
       "      <td>0</td>\n",
       "      <td>0</td>\n",
       "      <td>0</td>\n",
       "    </tr>\n",
       "    <tr>\n",
       "      <th>4</th>\n",
       "      <td>5</td>\n",
       "      <td>w</td>\n",
       "      <td>s</td>\n",
       "      <td>as</td>\n",
       "      <td>c</td>\n",
       "      <td>d</td>\n",
       "      <td>y</td>\n",
       "      <td>i</td>\n",
       "      <td>m</td>\n",
       "      <td>0</td>\n",
       "      <td>...</td>\n",
       "      <td>1</td>\n",
       "      <td>0</td>\n",
       "      <td>0</td>\n",
       "      <td>0</td>\n",
       "      <td>0</td>\n",
       "      <td>0</td>\n",
       "      <td>0</td>\n",
       "      <td>0</td>\n",
       "      <td>0</td>\n",
       "      <td>0</td>\n",
       "    </tr>\n",
       "  </tbody>\n",
       "</table>\n",
       "<p>5 rows × 377 columns</p>\n",
       "</div>"
      ],
      "text/plain": [
       "   ID  X0 X1  X2 X3 X4 X5 X6 X8  X10  ...  X375  X376  X377  X378  X379  X380  \\\n",
       "0   1  az  v   n  f  d  t  a  w    0  ...     0     0     0     1     0     0   \n",
       "1   2   t  b  ai  a  d  b  g  y    0  ...     0     0     1     0     0     0   \n",
       "2   3  az  v  as  f  d  a  j  j    0  ...     0     0     0     1     0     0   \n",
       "3   4  az  l   n  f  d  z  l  n    0  ...     0     0     0     1     0     0   \n",
       "4   5   w  s  as  c  d  y  i  m    0  ...     1     0     0     0     0     0   \n",
       "\n",
       "   X382  X383  X384  X385  \n",
       "0     0     0     0     0  \n",
       "1     0     0     0     0  \n",
       "2     0     0     0     0  \n",
       "3     0     0     0     0  \n",
       "4     0     0     0     0  \n",
       "\n",
       "[5 rows x 377 columns]"
      ]
     },
     "execution_count": 5,
     "metadata": {},
     "output_type": "execute_result"
    }
   ],
   "source": [
    "df_test.head()"
   ]
  },
  {
   "cell_type": "code",
   "execution_count": 6,
   "id": "4ac56938-9513-4795-9f4e-8a90a55c822b",
   "metadata": {},
   "outputs": [
    {
     "data": {
      "text/html": [
       "<div>\n",
       "<style scoped>\n",
       "    .dataframe tbody tr th:only-of-type {\n",
       "        vertical-align: middle;\n",
       "    }\n",
       "\n",
       "    .dataframe tbody tr th {\n",
       "        vertical-align: top;\n",
       "    }\n",
       "\n",
       "    .dataframe thead th {\n",
       "        text-align: right;\n",
       "    }\n",
       "</style>\n",
       "<table border=\"1\" class=\"dataframe\">\n",
       "  <thead>\n",
       "    <tr style=\"text-align: right;\">\n",
       "      <th></th>\n",
       "      <th>ID</th>\n",
       "      <th>y</th>\n",
       "      <th>X0</th>\n",
       "      <th>X1</th>\n",
       "      <th>X2</th>\n",
       "      <th>X3</th>\n",
       "      <th>X4</th>\n",
       "      <th>X5</th>\n",
       "      <th>X6</th>\n",
       "      <th>X8</th>\n",
       "      <th>...</th>\n",
       "      <th>X375</th>\n",
       "      <th>X376</th>\n",
       "      <th>X377</th>\n",
       "      <th>X378</th>\n",
       "      <th>X379</th>\n",
       "      <th>X380</th>\n",
       "      <th>X382</th>\n",
       "      <th>X383</th>\n",
       "      <th>X384</th>\n",
       "      <th>X385</th>\n",
       "    </tr>\n",
       "  </thead>\n",
       "  <tbody>\n",
       "    <tr>\n",
       "      <th>0</th>\n",
       "      <td>0</td>\n",
       "      <td>130.81</td>\n",
       "      <td>k</td>\n",
       "      <td>v</td>\n",
       "      <td>at</td>\n",
       "      <td>a</td>\n",
       "      <td>d</td>\n",
       "      <td>u</td>\n",
       "      <td>j</td>\n",
       "      <td>o</td>\n",
       "      <td>...</td>\n",
       "      <td>0</td>\n",
       "      <td>0</td>\n",
       "      <td>1</td>\n",
       "      <td>0</td>\n",
       "      <td>0</td>\n",
       "      <td>0</td>\n",
       "      <td>0</td>\n",
       "      <td>0</td>\n",
       "      <td>0</td>\n",
       "      <td>0</td>\n",
       "    </tr>\n",
       "    <tr>\n",
       "      <th>1</th>\n",
       "      <td>6</td>\n",
       "      <td>88.53</td>\n",
       "      <td>k</td>\n",
       "      <td>t</td>\n",
       "      <td>av</td>\n",
       "      <td>e</td>\n",
       "      <td>d</td>\n",
       "      <td>y</td>\n",
       "      <td>l</td>\n",
       "      <td>o</td>\n",
       "      <td>...</td>\n",
       "      <td>1</td>\n",
       "      <td>0</td>\n",
       "      <td>0</td>\n",
       "      <td>0</td>\n",
       "      <td>0</td>\n",
       "      <td>0</td>\n",
       "      <td>0</td>\n",
       "      <td>0</td>\n",
       "      <td>0</td>\n",
       "      <td>0</td>\n",
       "    </tr>\n",
       "    <tr>\n",
       "      <th>2</th>\n",
       "      <td>7</td>\n",
       "      <td>76.26</td>\n",
       "      <td>az</td>\n",
       "      <td>w</td>\n",
       "      <td>n</td>\n",
       "      <td>c</td>\n",
       "      <td>d</td>\n",
       "      <td>x</td>\n",
       "      <td>j</td>\n",
       "      <td>x</td>\n",
       "      <td>...</td>\n",
       "      <td>0</td>\n",
       "      <td>0</td>\n",
       "      <td>0</td>\n",
       "      <td>0</td>\n",
       "      <td>0</td>\n",
       "      <td>0</td>\n",
       "      <td>1</td>\n",
       "      <td>0</td>\n",
       "      <td>0</td>\n",
       "      <td>0</td>\n",
       "    </tr>\n",
       "    <tr>\n",
       "      <th>3</th>\n",
       "      <td>9</td>\n",
       "      <td>80.62</td>\n",
       "      <td>az</td>\n",
       "      <td>t</td>\n",
       "      <td>n</td>\n",
       "      <td>f</td>\n",
       "      <td>d</td>\n",
       "      <td>x</td>\n",
       "      <td>l</td>\n",
       "      <td>e</td>\n",
       "      <td>...</td>\n",
       "      <td>0</td>\n",
       "      <td>0</td>\n",
       "      <td>0</td>\n",
       "      <td>0</td>\n",
       "      <td>0</td>\n",
       "      <td>0</td>\n",
       "      <td>0</td>\n",
       "      <td>0</td>\n",
       "      <td>0</td>\n",
       "      <td>0</td>\n",
       "    </tr>\n",
       "    <tr>\n",
       "      <th>4</th>\n",
       "      <td>13</td>\n",
       "      <td>78.02</td>\n",
       "      <td>az</td>\n",
       "      <td>v</td>\n",
       "      <td>n</td>\n",
       "      <td>f</td>\n",
       "      <td>d</td>\n",
       "      <td>h</td>\n",
       "      <td>d</td>\n",
       "      <td>n</td>\n",
       "      <td>...</td>\n",
       "      <td>0</td>\n",
       "      <td>0</td>\n",
       "      <td>0</td>\n",
       "      <td>0</td>\n",
       "      <td>0</td>\n",
       "      <td>0</td>\n",
       "      <td>0</td>\n",
       "      <td>0</td>\n",
       "      <td>0</td>\n",
       "      <td>0</td>\n",
       "    </tr>\n",
       "  </tbody>\n",
       "</table>\n",
       "<p>5 rows × 378 columns</p>\n",
       "</div>"
      ],
      "text/plain": [
       "   ID       y  X0 X1  X2 X3 X4 X5 X6 X8  ...  X375  X376  X377  X378  X379  \\\n",
       "0   0  130.81   k  v  at  a  d  u  j  o  ...     0     0     1     0     0   \n",
       "1   6   88.53   k  t  av  e  d  y  l  o  ...     1     0     0     0     0   \n",
       "2   7   76.26  az  w   n  c  d  x  j  x  ...     0     0     0     0     0   \n",
       "3   9   80.62  az  t   n  f  d  x  l  e  ...     0     0     0     0     0   \n",
       "4  13   78.02  az  v   n  f  d  h  d  n  ...     0     0     0     0     0   \n",
       "\n",
       "   X380  X382  X383  X384  X385  \n",
       "0     0     0     0     0     0  \n",
       "1     0     0     0     0     0  \n",
       "2     0     1     0     0     0  \n",
       "3     0     0     0     0     0  \n",
       "4     0     0     0     0     0  \n",
       "\n",
       "[5 rows x 378 columns]"
      ]
     },
     "execution_count": 6,
     "metadata": {},
     "output_type": "execute_result"
    }
   ],
   "source": [
    "df_train.head()"
   ]
  },
  {
   "cell_type": "code",
   "execution_count": 7,
   "id": "56e2278f-5f08-4af0-bfc9-33fdb1a32bc2",
   "metadata": {},
   "outputs": [],
   "source": [
    "# Drop the id column from both test and training dataset\n",
    "df_test = df_test.drop(columns = 'ID')\n",
    "df_train = df_train.drop(columns = 'ID')"
   ]
  },
  {
   "cell_type": "markdown",
   "id": "35b6f1c6-e74f-4416-8e72-dfe18167a6a2",
   "metadata": {},
   "source": [
    "#### For all column(s) where the variance is equal to zero, it is removed"
   ]
  },
  {
   "cell_type": "code",
   "execution_count": 9,
   "id": "3f99f6c5-6f5a-4f1c-8c4f-257c85a58597",
   "metadata": {},
   "outputs": [],
   "source": [
    "for col in df_train.describe(include = 'number').columns:\n",
    "    if df_train[col].var() == 0:\n",
    "        df_train = df_train.drop(columns = col)\n",
    "        df_test  = df_test.drop(columns = col)"
   ]
  },
  {
   "cell_type": "code",
   "execution_count": 10,
   "id": "03faeb3b-a334-4c0b-bc77-a4905e63a4b8",
   "metadata": {},
   "outputs": [],
   "source": [
    "for col in df_test.describe(include = 'number').columns:\n",
    "    if df_test[col].var() == 0:\n",
    "        df_test = df_test.drop(columns = col)\n",
    "        df_train = df_train.drop(columns = col)"
   ]
  },
  {
   "cell_type": "code",
   "execution_count": 11,
   "id": "49085b2b-f459-46a5-98e0-e95e1c5e18cd",
   "metadata": {
    "scrolled": true
   },
   "outputs": [],
   "source": [
    "for i,x in zip(df_test.isnull().sum(),df_train.isnull().sum()):\n",
    "    if (i == 1) or (x == 2):\n",
    "        print(\"Null Value\")"
   ]
  },
  {
   "cell_type": "code",
   "execution_count": 12,
   "id": "f21e7ad9-20fb-4880-91cc-93da1eae5b5e",
   "metadata": {
    "scrolled": true
   },
   "outputs": [
    {
     "name": "stdout",
     "output_type": "stream",
     "text": [
      "0\n",
      "--------\n",
      "0\n"
     ]
    }
   ],
   "source": [
    "# checking for null values\n",
    "print(df_train.isnull().sum().sum())\n",
    "print(\"--------\")\n",
    "print(df_test.isnull().sum().sum())"
   ]
  },
  {
   "cell_type": "markdown",
   "id": "714664a0-1c80-4053-b8c7-298a47e9d926",
   "metadata": {},
   "source": [
    "### No null values found"
   ]
  },
  {
   "cell_type": "code",
   "execution_count": 14,
   "id": "c19fec2b-39fe-4835-884d-b638083d3fab",
   "metadata": {},
   "outputs": [
    {
     "name": "stdout",
     "output_type": "stream",
     "text": [
      "Unique values of X0\n",
      "['k' 'az' 't' 'al' 'o' 'w' 'j' 'h' 's' 'n' 'ay' 'f' 'x' 'y' 'aj' 'ak' 'am'\n",
      " 'z' 'q' 'at' 'ap' 'v' 'af' 'a' 'e' 'ai' 'd' 'aq' 'c' 'aa' 'ba' 'as' 'i'\n",
      " 'r' 'b' 'ax' 'bc' 'u' 'ad' 'au' 'm' 'l' 'aw' 'ao' 'ac' 'g' 'ab']\n",
      "----------------------------------------------------------\n",
      "----------------------------------------------------------\n",
      "Unique values of X1\n",
      "['v' 't' 'w' 'b' 'r' 'l' 's' 'aa' 'c' 'a' 'e' 'h' 'z' 'j' 'o' 'u' 'p' 'n'\n",
      " 'i' 'y' 'd' 'f' 'm' 'k' 'g' 'q' 'ab']\n",
      "----------------------------------------------------------\n",
      "----------------------------------------------------------\n",
      "Unique values of X2\n",
      "['at' 'av' 'n' 'e' 'as' 'aq' 'r' 'ai' 'ak' 'm' 'a' 'k' 'ae' 's' 'f' 'd'\n",
      " 'ag' 'ay' 'ac' 'ap' 'g' 'i' 'aw' 'y' 'b' 'ao' 'al' 'h' 'x' 'au' 't' 'an'\n",
      " 'z' 'ah' 'p' 'am' 'j' 'q' 'af' 'l' 'aa' 'c' 'o' 'ar']\n",
      "----------------------------------------------------------\n",
      "----------------------------------------------------------\n",
      "Unique values of X3\n",
      "['a' 'e' 'c' 'f' 'd' 'b' 'g']\n",
      "----------------------------------------------------------\n",
      "----------------------------------------------------------\n",
      "Unique values of X4\n",
      "['d' 'b' 'c' 'a']\n",
      "----------------------------------------------------------\n",
      "----------------------------------------------------------\n",
      "Unique values of X5\n",
      "['u' 'y' 'x' 'h' 'g' 'f' 'j' 'i' 'd' 'c' 'af' 'ag' 'ab' 'ac' 'ad' 'ae'\n",
      " 'ah' 'l' 'k' 'n' 'm' 'p' 'q' 's' 'r' 'v' 'w' 'o' 'aa']\n",
      "----------------------------------------------------------\n",
      "----------------------------------------------------------\n",
      "Unique values of X6\n",
      "['j' 'l' 'd' 'h' 'i' 'a' 'g' 'c' 'k' 'e' 'f' 'b']\n",
      "----------------------------------------------------------\n",
      "----------------------------------------------------------\n",
      "Unique values of X8\n",
      "['o' 'x' 'e' 'n' 's' 'a' 'h' 'p' 'm' 'k' 'd' 'i' 'v' 'j' 'b' 'q' 'w' 'g'\n",
      " 'y' 'l' 'f' 'u' 'r' 't' 'c']\n",
      "----------------------------------------------------------\n",
      "----------------------------------------------------------\n"
     ]
    }
   ],
   "source": [
    "# Printing unique value for test and train data set\n",
    "for col in df_train.describe(exclude = \"number\"):\n",
    "    print(f\"Unique values of {col}\")\n",
    "    print(df_train[col].unique())\n",
    "    print(\"----------------------------------------------------------\")\n",
    "    print(\"----------------------------------------------------------\")"
   ]
  },
  {
   "cell_type": "code",
   "execution_count": 15,
   "id": "348d4114-2492-4aed-8a8d-57d1ad1f4240",
   "metadata": {},
   "outputs": [
    {
     "name": "stdout",
     "output_type": "stream",
     "text": [
      "Unique values of X0\n",
      "['az' 't' 'w' 'y' 'x' 'f' 'ap' 'o' 'ay' 'al' 'h' 'z' 'aj' 'd' 'v' 'ak'\n",
      " 'ba' 'n' 'j' 's' 'af' 'ax' 'at' 'aq' 'av' 'm' 'k' 'a' 'e' 'ai' 'i' 'ag'\n",
      " 'b' 'am' 'aw' 'as' 'r' 'ao' 'u' 'l' 'c' 'ad' 'au' 'bc' 'g' 'an' 'ae' 'p'\n",
      " 'bb']\n",
      "----------------------------------------------------------\n",
      "----------------------------------------------------------\n",
      "Unique values of X1\n",
      "['v' 'b' 'l' 's' 'aa' 'r' 'a' 'i' 'p' 'c' 'o' 'm' 'z' 'e' 'h' 'w' 'g' 'k'\n",
      " 'y' 't' 'u' 'd' 'j' 'q' 'n' 'f' 'ab']\n",
      "----------------------------------------------------------\n",
      "----------------------------------------------------------\n",
      "Unique values of X2\n",
      "['n' 'ai' 'as' 'ae' 's' 'b' 'e' 'ak' 'm' 'a' 'aq' 'ag' 'r' 'k' 'aj' 'ay'\n",
      " 'ao' 'an' 'ac' 'af' 'ax' 'h' 'i' 'f' 'ap' 'p' 'au' 't' 'z' 'y' 'aw' 'd'\n",
      " 'at' 'g' 'am' 'j' 'x' 'ab' 'w' 'q' 'ah' 'ad' 'al' 'av' 'u']\n",
      "----------------------------------------------------------\n",
      "----------------------------------------------------------\n",
      "Unique values of X3\n",
      "['f' 'a' 'c' 'e' 'd' 'g' 'b']\n",
      "----------------------------------------------------------\n",
      "----------------------------------------------------------\n",
      "Unique values of X4\n",
      "['d' 'b' 'a' 'c']\n",
      "----------------------------------------------------------\n",
      "----------------------------------------------------------\n",
      "Unique values of X5\n",
      "['t' 'b' 'a' 'z' 'y' 'x' 'h' 'g' 'f' 'j' 'i' 'd' 'c' 'af' 'ag' 'ab' 'ac'\n",
      " 'ad' 'ae' 'ah' 'l' 'k' 'n' 'm' 'p' 'q' 's' 'r' 'v' 'w' 'o' 'aa']\n",
      "----------------------------------------------------------\n",
      "----------------------------------------------------------\n",
      "Unique values of X6\n",
      "['a' 'g' 'j' 'l' 'i' 'd' 'f' 'h' 'c' 'k' 'e' 'b']\n",
      "----------------------------------------------------------\n",
      "----------------------------------------------------------\n",
      "Unique values of X8\n",
      "['w' 'y' 'j' 'n' 'm' 's' 'a' 'v' 'r' 'o' 't' 'h' 'c' 'k' 'p' 'u' 'd' 'g'\n",
      " 'b' 'q' 'e' 'l' 'f' 'i' 'x']\n",
      "----------------------------------------------------------\n",
      "----------------------------------------------------------\n"
     ]
    }
   ],
   "source": [
    "for col in df_test.describe(exclude = \"number\"):\n",
    "    print(f\"Unique values of {col}\")\n",
    "    print(df_test[col].unique())\n",
    "    print(\"----------------------------------------------------------\")\n",
    "    print(\"----------------------------------------------------------\")"
   ]
  },
  {
   "cell_type": "code",
   "execution_count": 16,
   "id": "be3e236f-40ae-444b-9a0d-3ea159f41e56",
   "metadata": {},
   "outputs": [],
   "source": [
    "# Performing Label Encoding\n",
    "from sklearn.preprocessing import LabelEncoder"
   ]
  },
  {
   "cell_type": "code",
   "execution_count": 17,
   "id": "322f7495-5770-4dba-8a46-31d7a6dd37e6",
   "metadata": {},
   "outputs": [],
   "source": [
    "lb = LabelEncoder()\n",
    "for col in df_test.describe(exclude = \"number\"):\n",
    "    df_test[col] = lb.fit_transform(df_test[col])\n",
    "for col in df_train.describe(exclude = \"number\"):\n",
    "    df_train[col] = lb.fit_transform(df_train[col])"
   ]
  },
  {
   "cell_type": "code",
   "execution_count": 18,
   "id": "47aceb72-a8c7-4a93-b94c-0f27273782c5",
   "metadata": {},
   "outputs": [],
   "source": [
    "# Splitting the data into X and y\n",
    "X = df_train.drop(columns = 'y')\n",
    "y = df_train['y']"
   ]
  },
  {
   "cell_type": "markdown",
   "id": "ede13f1b-4ef6-4ca3-b1bb-6d0405e01ede",
   "metadata": {},
   "source": [
    "### Using PCA for dimensionality Reduction"
   ]
  },
  {
   "cell_type": "code",
   "execution_count": 20,
   "id": "3deea5c6-0688-4558-aed6-b7f610588a82",
   "metadata": {},
   "outputs": [],
   "source": [
    "from sklearn.decomposition import PCA\n",
    "from xgboost import XGBRegressor\n",
    "from sklearn.preprocessing import StandardScaler\n",
    "from sklearn.model_selection import cross_validate"
   ]
  },
  {
   "cell_type": "code",
   "execution_count": 21,
   "id": "159eaf7a-45bd-42b4-95c4-ba8b840d9cd0",
   "metadata": {},
   "outputs": [],
   "source": [
    "# Using standardScaler to standardize the data\n",
    "st = StandardScaler()\n",
    "X_scaled = st.fit_transform(X)\n",
    "df_test_scaled = st.fit_transform(df_test)"
   ]
  },
  {
   "cell_type": "code",
   "execution_count": 22,
   "id": "5c254292-6b29-4f99-8719-28be12199e02",
   "metadata": {},
   "outputs": [],
   "source": [
    "# Using PCA with 190 components for dimensionality reduction\n",
    "pca = PCA(n_components = 190)\n",
    "X_pca = pd.DataFrame(pca.fit_transform(X_scaled))\n",
    "df_test_pca = pd.DataFrame(pca.fit_transform(df_test_scaled))"
   ]
  },
  {
   "cell_type": "markdown",
   "id": "e8f6f1f2-4088-4e25-8790-2016abd8f961",
   "metadata": {},
   "source": [
    "### Using XGBoost and cross validation to get Mean Absolute error and R-Squared"
   ]
  },
  {
   "cell_type": "code",
   "execution_count": 24,
   "id": "a8dfc9df-b8ef-4eef-a4dc-2a567162a38f",
   "metadata": {},
   "outputs": [],
   "source": [
    "xgb = XGBRegressor(max_depth = 3,n_estimators = 30,random_state = 25)\n",
    "score = cross_validate(xgb,X_pca,y,cv=10,scoring=['neg_mean_absolute_error','r2'])\n",
    "result = pd.DataFrame({\n",
    "'MAE':[-score['test_neg_mean_absolute_error'].mean()],\n",
    "'R-Squared':[score['test_r2'].mean()],\n",
    "},index=['Result'])"
   ]
  },
  {
   "cell_type": "code",
   "execution_count": 25,
   "id": "7d044e88-1aae-40d4-b4af-de45afe4ad2f",
   "metadata": {},
   "outputs": [
    {
     "data": {
      "text/html": [
       "<div>\n",
       "<style scoped>\n",
       "    .dataframe tbody tr th:only-of-type {\n",
       "        vertical-align: middle;\n",
       "    }\n",
       "\n",
       "    .dataframe tbody tr th {\n",
       "        vertical-align: top;\n",
       "    }\n",
       "\n",
       "    .dataframe thead th {\n",
       "        text-align: right;\n",
       "    }\n",
       "</style>\n",
       "<table border=\"1\" class=\"dataframe\">\n",
       "  <thead>\n",
       "    <tr style=\"text-align: right;\">\n",
       "      <th></th>\n",
       "      <th>MAE</th>\n",
       "      <th>R-Squared</th>\n",
       "    </tr>\n",
       "  </thead>\n",
       "  <tbody>\n",
       "    <tr>\n",
       "      <th>Result</th>\n",
       "      <td>6.180854</td>\n",
       "      <td>0.475393</td>\n",
       "    </tr>\n",
       "  </tbody>\n",
       "</table>\n",
       "</div>"
      ],
      "text/plain": [
       "             MAE  R-Squared\n",
       "Result  6.180854   0.475393"
      ]
     },
     "execution_count": 25,
     "metadata": {},
     "output_type": "execute_result"
    }
   ],
   "source": [
    "result"
   ]
  },
  {
   "cell_type": "markdown",
   "id": "6cd153f3-262b-4588-b102-f9e06f735b54",
   "metadata": {},
   "source": [
    "#### I used XGBRegressor with no parameters but the R-squared was low, after adding max_depth and n_estimators it increased from 0.41 to 0.47 "
   ]
  },
  {
   "cell_type": "code",
   "execution_count": 27,
   "id": "f18ea650-ff69-430f-9ed3-fa1a4d17211b",
   "metadata": {},
   "outputs": [],
   "source": [
    "# Predicting y for df_test\n",
    "xgb.fit(X_pca,y)\n",
    "y_pred_pca = xgb.predict(df_test_pca)"
   ]
  },
  {
   "cell_type": "markdown",
   "id": "7dc1ba81-5dca-44b0-a787-315a09bd8b84",
   "metadata": {},
   "source": [
    "### Using XGBoost without PCA(Dimensionality Reduction)"
   ]
  },
  {
   "cell_type": "code",
   "execution_count": 64,
   "id": "3d6308d1-4552-4f24-92b4-f6d138554a87",
   "metadata": {},
   "outputs": [],
   "source": [
    "xgb = XGBRegressor(max_depth = 3,n_estimators = 30,random_state = 25)\n",
    "score = cross_validate(xgb,X_scaled,y,cv=10,scoring=['neg_mean_absolute_error','r2'])\n",
    "result = pd.DataFrame({\n",
    "'MAE':[-score['test_neg_mean_absolute_error'].mean()],\n",
    "'R-Squared':[score['test_r2'].mean()],\n",
    "},index=['Result'])"
   ]
  },
  {
   "cell_type": "code",
   "execution_count": 65,
   "id": "2f1fb436-ba5a-42a9-aa72-9c3fff055b82",
   "metadata": {},
   "outputs": [
    {
     "data": {
      "text/html": [
       "<div>\n",
       "<style scoped>\n",
       "    .dataframe tbody tr th:only-of-type {\n",
       "        vertical-align: middle;\n",
       "    }\n",
       "\n",
       "    .dataframe tbody tr th {\n",
       "        vertical-align: top;\n",
       "    }\n",
       "\n",
       "    .dataframe thead th {\n",
       "        text-align: right;\n",
       "    }\n",
       "</style>\n",
       "<table border=\"1\" class=\"dataframe\">\n",
       "  <thead>\n",
       "    <tr style=\"text-align: right;\">\n",
       "      <th></th>\n",
       "      <th>MAE</th>\n",
       "      <th>R-Squared</th>\n",
       "    </tr>\n",
       "  </thead>\n",
       "  <tbody>\n",
       "    <tr>\n",
       "      <th>Result</th>\n",
       "      <td>5.399357</td>\n",
       "      <td>0.572206</td>\n",
       "    </tr>\n",
       "  </tbody>\n",
       "</table>\n",
       "</div>"
      ],
      "text/plain": [
       "             MAE  R-Squared\n",
       "Result  5.399357   0.572206"
      ]
     },
     "execution_count": 65,
     "metadata": {},
     "output_type": "execute_result"
    }
   ],
   "source": [
    "result"
   ]
  },
  {
   "cell_type": "code",
   "execution_count": 66,
   "id": "c13f82f5-1d03-4c3d-b742-4552e30560b5",
   "metadata": {},
   "outputs": [],
   "source": [
    "xgb.fit(X_scaled,y)\n",
    "y_pred = xgb.predict(df_test_scaled)"
   ]
  },
  {
   "cell_type": "markdown",
   "id": "64a1cab0-f445-4d10-af05-e345e7c39e91",
   "metadata": {},
   "source": [
    "### The results without dimensionality reduction are better as MAE is less and R2 is high as well."
   ]
  },
  {
   "cell_type": "code",
   "execution_count": null,
   "id": "8cd5e744-5bb4-4a88-9e21-f5c4ce102d1f",
   "metadata": {},
   "outputs": [],
   "source": []
  }
 ],
 "metadata": {
  "kernelspec": {
   "display_name": "Python 3 (ipykernel)",
   "language": "python",
   "name": "python3"
  },
  "language_info": {
   "codemirror_mode": {
    "name": "ipython",
    "version": 3
   },
   "file_extension": ".py",
   "mimetype": "text/x-python",
   "name": "python",
   "nbconvert_exporter": "python",
   "pygments_lexer": "ipython3",
   "version": "3.12.4"
  }
 },
 "nbformat": 4,
 "nbformat_minor": 5
}
